{
  "nbformat": 4,
  "nbformat_minor": 0,
  "metadata": {
    "colab": {
      "provenance": []
    },
    "kernelspec": {
      "name": "python3",
      "display_name": "Python 3"
    },
    "language_info": {
      "name": "python"
    }
  },
  "cells": [
    {
      "cell_type": "code",
      "execution_count": null,
      "metadata": {
        "id": "8FWle4OBOiSW"
      },
      "outputs": [],
      "source": [
        "import numpy as np\n",
        "import itertools"
      ]
    },
    {
      "cell_type": "code",
      "source": [
        "class RosenblattNeuron:\n",
        "    def __init__(self, input_size, learning_rate=0.1):\n",
        "        # Initialize weights (including the bias as the last weight)\n",
        "        self.weights = np.zeros(input_size + 1)\n",
        "        self.learning_rate = learning_rate\n",
        "\n",
        "    def predict(self, inputs):\n",
        "        # Add the bias input (1) to the inputs\n",
        "        inputs_with_bias = np.append(inputs, 1)\n",
        "        # Calculate the weighted sum (dot product)\n",
        "        weighted_sum = np.dot(self.weights, inputs_with_bias)\n",
        "        # Apply the activation function (sign function)\n",
        "        return 1 if weighted_sum > 0 else 0\n",
        "\n",
        "    def train(self, training_inputs, labels, epochs=100):\n",
        "        for epoch in range(epochs):\n",
        "            for inputs, label in zip(training_inputs, labels):\n",
        "                prediction = self.predict(inputs)\n",
        "                # Calculate the error\n",
        "                error = label - prediction\n",
        "                # Update the weights (including bias)\n",
        "                self.weights += self.learning_rate * error * np.append(inputs, 1)\n",
        "\n",
        "    def generate_truth_table(self):\n",
        "        # Number of inputs\n",
        "        num_inputs = len(self.weights) - 1\n",
        "\n",
        "        # Generate all possible input combinations (truth table)\n",
        "        truth_table = list(itertools.product([0, 1], repeat=num_inputs))\n",
        "\n",
        "        # Print the truth table\n",
        "        print(\"Inputs -> Output\")\n",
        "        for inputs in truth_table:\n",
        "            output = self.predict(np.array(inputs))\n",
        "            print(f\"{inputs} -> {output}\")"
      ],
      "metadata": {
        "id": "B9btrwz4Ouj9"
      },
      "execution_count": null,
      "outputs": []
    },
    {
      "cell_type": "code",
      "source": [
        "# Define training data for an AND gate\n",
        "training_inputs = np.array([[0, 0], [0, 1], [1, 0], [1, 1]])\n",
        "labels = np.array([0, 0, 0, 1])"
      ],
      "metadata": {
        "id": "94I8s9R1O4Yo"
      },
      "execution_count": null,
      "outputs": []
    },
    {
      "cell_type": "code",
      "source": [
        "and_perceptron = RosenblattNeuron(input_size=2)\n",
        "and_perceptron.train(training_inputs, labels, epochs=10)"
      ],
      "metadata": {
        "id": "BUx6H0V7POQ_"
      },
      "execution_count": null,
      "outputs": []
    },
    {
      "cell_type": "code",
      "source": [
        "and_perceptron.generate_truth_table()"
      ],
      "metadata": {
        "colab": {
          "base_uri": "https://localhost:8080/"
        },
        "id": "sK4B-OfkPUWn",
        "outputId": "ddb492fa-f7a8-4062-c8b2-e80fde14325a"
      },
      "execution_count": null,
      "outputs": [
        {
          "output_type": "stream",
          "name": "stdout",
          "text": [
            "Inputs -> Output\n",
            "(0, 0) -> 0\n",
            "(0, 1) -> 0\n",
            "(1, 0) -> 0\n",
            "(1, 1) -> 1\n"
          ]
        }
      ]
    },
    {
      "cell_type": "code",
      "source": [
        "# for OR Gate\n",
        "labels = np.array([0, 1, 1, 1])\n",
        "or_perceptron = RosenblattNeuron(input_size=2)\n",
        "or_perceptron.train(training_inputs, labels, epochs=10)"
      ],
      "metadata": {
        "id": "hjtWXcpFPVz-"
      },
      "execution_count": null,
      "outputs": []
    },
    {
      "cell_type": "code",
      "source": [
        "or_perceptron.generate_truth_table()"
      ],
      "metadata": {
        "colab": {
          "base_uri": "https://localhost:8080/"
        },
        "id": "8227ELBhPwA3",
        "outputId": "1b4b7587-c0ad-4588-f19a-b3e3fd3334eb"
      },
      "execution_count": null,
      "outputs": [
        {
          "output_type": "stream",
          "name": "stdout",
          "text": [
            "Inputs -> Output\n",
            "(0, 0) -> 0\n",
            "(0, 1) -> 1\n",
            "(1, 0) -> 1\n",
            "(1, 1) -> 1\n"
          ]
        }
      ]
    },
    {
      "cell_type": "code",
      "source": [],
      "metadata": {
        "id": "TFTpd_Q8P0qR"
      },
      "execution_count": null,
      "outputs": []
    }
  ]
}