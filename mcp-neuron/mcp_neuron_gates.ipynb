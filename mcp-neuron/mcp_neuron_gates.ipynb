{
  "nbformat": 4,
  "nbformat_minor": 0,
  "metadata": {
    "colab": {
      "provenance": []
    },
    "kernelspec": {
      "name": "python3",
      "display_name": "Python 3"
    },
    "language_info": {
      "name": "python"
    }
  },
  "cells": [
    {
      "cell_type": "code",
      "execution_count": 2,
      "metadata": {
        "id": "eMmopjxCLVQ7"
      },
      "outputs": [],
      "source": [
        "import itertools\n",
        "\n",
        "class MCPNeuron:\n",
        "    def __init__(self, weights, threshold):\n",
        "        self.weights = weights\n",
        "        self.threshold = threshold\n",
        "\n",
        "    def activate(self, inputs):\n",
        "        # Calculate the weighted sum of inputs\n",
        "        weighted_sum = sum(w * i for w, i in zip(self.weights, inputs))\n",
        "\n",
        "        # Apply the threshold function\n",
        "        return 1 if weighted_sum >= self.threshold else 0\n",
        "\n",
        "    def generate_truth_table(self):\n",
        "        # Number of inputs\n",
        "        num_inputs = len(self.weights)\n",
        "\n",
        "        # Generate all possible input combinations (truth table)\n",
        "        truth_table = list(itertools.product([0, 1], repeat=num_inputs))\n",
        "\n",
        "        # Print the truth table\n",
        "        print(\"Inputs -> Output\")\n",
        "        for inputs in truth_table:\n",
        "            output = self.activate(inputs)\n",
        "            print(f\"{inputs} -> {output}\")\n"
      ]
    },
    {
      "cell_type": "code",
      "source": [
        "# Define weights and threshold for an AND gate\n",
        "and_neuron = MCPNeuron(weights=[1, 1], threshold=2)\n",
        "\n",
        "# Generate and print the truth table for the AND gate\n",
        "and_neuron.generate_truth_table()"
      ],
      "metadata": {
        "colab": {
          "base_uri": "https://localhost:8080/"
        },
        "id": "lWlBFz-ALbaW",
        "outputId": "a6f57932-e78c-4259-bc5e-88419f3c8e9e"
      },
      "execution_count": 3,
      "outputs": [
        {
          "output_type": "stream",
          "name": "stdout",
          "text": [
            "Inputs -> Output\n",
            "(0, 0) -> 0\n",
            "(0, 1) -> 0\n",
            "(1, 0) -> 0\n",
            "(1, 1) -> 1\n"
          ]
        }
      ]
    },
    {
      "cell_type": "code",
      "source": [
        "or_neuron = MCPNeuron(weights=[1, 1], threshold=1)\n",
        "or_neuron.generate_truth_table()"
      ],
      "metadata": {
        "colab": {
          "base_uri": "https://localhost:8080/"
        },
        "id": "xUeQlwfhL-9g",
        "outputId": "e7cf2f34-7c1a-4c0c-a191-21650d1d94d4"
      },
      "execution_count": 4,
      "outputs": [
        {
          "output_type": "stream",
          "name": "stdout",
          "text": [
            "Inputs -> Output\n",
            "(0, 0) -> 0\n",
            "(0, 1) -> 1\n",
            "(1, 0) -> 1\n",
            "(1, 1) -> 1\n"
          ]
        }
      ]
    },
    {
      "cell_type": "code",
      "source": [
        "not_neuron = MCPNeuron(weights=[-1], threshold=0)\n",
        "not_neuron.generate_truth_table()"
      ],
      "metadata": {
        "colab": {
          "base_uri": "https://localhost:8080/"
        },
        "id": "7-A_MP4xMJqI",
        "outputId": "10d25865-8613-499e-ab54-bd1118a97402"
      },
      "execution_count": 5,
      "outputs": [
        {
          "output_type": "stream",
          "name": "stdout",
          "text": [
            "Inputs -> Output\n",
            "(0,) -> 1\n",
            "(1,) -> 0\n"
          ]
        }
      ]
    },
    {
      "cell_type": "code",
      "source": [
        "nand_neuron = MCPNeuron(weights=[-1, -1], threshold=-1)\n",
        "nand_neuron.generate_truth_table()"
      ],
      "metadata": {
        "colab": {
          "base_uri": "https://localhost:8080/"
        },
        "id": "55Bwal2NMON0",
        "outputId": "9b2fd0c7-8534-4eb5-9328-aa21a491f535"
      },
      "execution_count": 6,
      "outputs": [
        {
          "output_type": "stream",
          "name": "stdout",
          "text": [
            "Inputs -> Output\n",
            "(0, 0) -> 1\n",
            "(0, 1) -> 1\n",
            "(1, 0) -> 1\n",
            "(1, 1) -> 0\n"
          ]
        }
      ]
    },
    {
      "cell_type": "code",
      "source": [],
      "metadata": {
        "id": "5l2081R0MPx0"
      },
      "execution_count": 7,
      "outputs": []
    },
    {
      "cell_type": "code",
      "source": [],
      "metadata": {
        "id": "Qv_2pkkDMQuP"
      },
      "execution_count": null,
      "outputs": []
    }
  ]
}